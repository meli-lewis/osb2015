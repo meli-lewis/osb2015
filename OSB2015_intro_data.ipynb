{
 "cells": [
  {
   "cell_type": "markdown",
   "metadata": {},
   "source": [
    "# Introduction to data munging with Jupyter and pandas\n",
    "## Open Source Bridge 2015"
   ]
  },
  {
   "cell_type": "code",
   "execution_count": 85,
   "metadata": {
    "collapsed": false
   },
   "outputs": [],
   "source": [
    "from __future__ import division\n",
    "\n",
    "import matplotlib as mpl\n",
    "import matplotlib.pyplot as plt\n",
    "import numpy as np\n",
    "import pandas as pd\n",
    "import seaborn\n",
    "import rpy2\n",
    "\n",
    "from IPython.display import (display,\n",
    "                             Image,\n",
    "                             YouTubeVideo)\n",
    "\n",
    "%matplotlib inline"
   ]
  },
  {
   "cell_type": "markdown",
   "metadata": {},
   "source": [
    "## The case for open source data tools"
   ]
  },
  {
   "cell_type": "markdown",
   "metadata": {},
   "source": [
    "- [Reproducibility and Transparency](http://www.nature.com/news/interactive-notebooks-sharing-the-code-1.16261)\n",
    "\n",
    "- Cost -- compare capabilities between software you already use and open source [here](https://en.wikipedia.org/wiki/Comparison_of_statistical_packages)\n",
    "\n",
    "- Learn more about open science at [Amy Boyle](https://twitter.com/amylouboyle)'s talk [Thursday afternoon](http://opensourcebridge.org/sessions/1535)!"
   ]
  },
  {
   "cell_type": "markdown",
   "metadata": {
    "collapsed": true
   },
   "source": [
    "## IPython/Jupyter Notebook: some cool tips for beginners"
   ]
  },
  {
   "cell_type": "markdown",
   "metadata": {},
   "source": [
    "### 1a. holy moly tab completion"
   ]
  },
  {
   "cell_type": "markdown",
   "metadata": {},
   "source": [
    "### 1b. built-in documentation"
   ]
  },
  {
   "cell_type": "code",
   "execution_count": 5,
   "metadata": {
    "collapsed": true
   },
   "outputs": [],
   "source": [
    "?pd.read_csv"
   ]
  },
  {
   "cell_type": "code",
   "execution_count": null,
   "metadata": {
    "collapsed": true
   },
   "outputs": [],
   "source": [
    "%quickref"
   ]
  },
  {
   "cell_type": "markdown",
   "metadata": {},
   "source": [
    "### 2. markup!"
   ]
  },
  {
   "cell_type": "markdown",
   "metadata": {
    "collapsed": true
   },
   "source": [
    "# Markdown and HTML\n",
    "<img src='ipynb.gif' align='left'></span>\n",
    "<br>\n",
    "<br>\n",
    "<br>\n",
    "\n",
    "# LaTeX\n",
    "<span style=\"font-size: 24px\"> $\\bar{x} = \\frac{\\sum_{i=1}^{n}w_i\\cdot x_i}{\\sum_{i=1}^{n}w_i}$</span>\n",
    "\n",
    "\n",
    "# Syntax highlighting for other languages\n",
    "```R\n",
    "x <- c(0:10, 50)\n",
    "xm <- mean(x)\n",
    "c(xm, mean(x, trim = 0.10))\n",
    "```"
   ]
  },
  {
   "cell_type": "markdown",
   "metadata": {},
   "source": [
    "### 3. [magic methods](https://ipython.org/ipython-doc/dev/interactive/magics.html)"
   ]
  },
  {
   "cell_type": "code",
   "execution_count": 4,
   "metadata": {
    "collapsed": false,
    "scrolled": true
   },
   "outputs": [
    {
     "name": "stdout",
     "output_type": "stream",
     "text": [
      "The rmagic extension is already loaded. To reload it, use:\n",
      "  %reload_ext rmagic\n"
     ]
    }
   ],
   "source": [
    "%load_ext rmagic"
   ]
  },
  {
   "cell_type": "code",
   "execution_count": 6,
   "metadata": {
    "collapsed": false
   },
   "outputs": [
    {
     "data": {
      "text/plain": [
       "array([ 8.75,  5.5 ])"
      ]
     },
     "execution_count": 6,
     "metadata": {},
     "output_type": "execute_result"
    }
   ],
   "source": [
    "%R x <- c(0:10, 50)\n",
    "%R xm <- mean(x)\n",
    "%R c(xm, mean(x, trim = 0.10))"
   ]
  },
  {
   "cell_type": "markdown",
   "metadata": {},
   "source": [
    "### 4. [multimedia](https://ipython.org/ipython-doc/dev/api/generated/IPython.display.html)"
   ]
  },
  {
   "cell_type": "code",
   "execution_count": 32,
   "metadata": {
    "collapsed": false
   },
   "outputs": [
    {
     "data": {
      "text/html": [
       "\n",
       "        <iframe\n",
       "            width=\"400\"\n",
       "            height=\"300\"\n",
       "            src=\"https://www.youtube.com/embed/L4Hbv4ugUWk\"\n",
       "            frameborder=\"0\"\n",
       "            allowfullscreen\n",
       "        ></iframe>\n",
       "        "
      ],
      "text/plain": [
       "<IPython.lib.display.YouTubeVideo at 0x11546a290>"
      ]
     },
     "execution_count": 32,
     "metadata": {},
     "output_type": "execute_result"
    }
   ],
   "source": [
    "YouTubeVideo(\"L4Hbv4ugUWk\")"
   ]
  },
  {
   "cell_type": "markdown",
   "metadata": {
    "collapsed": true
   },
   "source": [
    "### 5. Notebooks are now viewable directly [on github](https://github.com/blog/1995-github-jupyter-notebooks-3), and also exportable as PDF or HTML."
   ]
  },
  {
   "cell_type": "markdown",
   "metadata": {},
   "source": [
    "# pandas"
   ]
  },
  {
   "cell_type": "markdown",
   "metadata": {},
   "source": [
    "# Input\n",
    "Source: [IRS.gov](http://www.irs.gov/uac/SOI-Tax-Stats-Individual-Income-Tax-Statistics-ZIP-Code-Data-%28SOI%29)"
   ]
  },
  {
   "cell_type": "code",
   "execution_count": 52,
   "metadata": {
    "collapsed": false
   },
   "outputs": [],
   "source": [
    "?pd.read_csv"
   ]
  },
  {
   "cell_type": "code",
   "execution_count": 58,
   "metadata": {
    "collapsed": false
   },
   "outputs": [],
   "source": [
    "# read in a CSV\n",
    "# specify that zipcode should be treated as a string rather than an int!\n",
    "AGI = pd.read_csv('12zpallagi.csv',dtype={'zipcode': str})"
   ]
  },
  {
   "cell_type": "code",
   "execution_count": 61,
   "metadata": {
    "collapsed": false
   },
   "outputs": [
    {
     "name": "stdout",
     "output_type": "stream",
     "text": [
      "<class 'pandas.core.frame.DataFrame'>\n",
      "Int64Index: 166904 entries, 0 to 166903\n",
      "Data columns (total 77 columns):\n",
      "STATEFIPS    166904 non-null int64\n",
      "STATE        166904 non-null object\n",
      "zipcode      166904 non-null object\n",
      "AGI_STUB     166904 non-null int64\n",
      "N1           166904 non-null float64\n",
      "MARS1        166904 non-null float64\n",
      "MARS2        166904 non-null float64\n",
      "MARS4        166904 non-null float64\n",
      "PREP         166904 non-null float64\n",
      "N2           166904 non-null float64\n",
      "NUMDEP       166904 non-null float64\n",
      "A00100       166904 non-null float64\n",
      "N00200       166904 non-null float64\n",
      "A00200       166904 non-null float64\n",
      "N00300       166904 non-null float64\n",
      "A00300       166904 non-null float64\n",
      "N00600       166904 non-null float64\n",
      "A00600       166904 non-null float64\n",
      "N00650       166904 non-null float64\n",
      "A00650       166904 non-null float64\n",
      "N00900       166904 non-null float64\n",
      "A00900       166904 non-null float64\n",
      "SCHF         166904 non-null float64\n",
      "N01000       166904 non-null float64\n",
      "A01000       166904 non-null float64\n",
      "N01400       166904 non-null float64\n",
      "A01400       166904 non-null float64\n",
      "N01700       166904 non-null float64\n",
      "A01700       166904 non-null float64\n",
      "N02300       166904 non-null float64\n",
      "A02300       166904 non-null float64\n",
      "N02500       166904 non-null float64\n",
      "A02500       166904 non-null float64\n",
      "N03300       166904 non-null float64\n",
      "A03300       166904 non-null float64\n",
      "N00101       166904 non-null float64\n",
      "A00101       166904 non-null float64\n",
      "N04470       166904 non-null float64\n",
      "A04470       166904 non-null float64\n",
      "N18425       166904 non-null float64\n",
      "A18425       166904 non-null float64\n",
      "N18450       166904 non-null float64\n",
      "A18450       166904 non-null float64\n",
      "N18500       166904 non-null float64\n",
      "A18500       166904 non-null float64\n",
      "N18300       166904 non-null float64\n",
      "A18300       166904 non-null float64\n",
      "N19300       166904 non-null float64\n",
      "A19300       166904 non-null float64\n",
      "N19700       166904 non-null float64\n",
      "A19700       166904 non-null float64\n",
      "N04800       166904 non-null float64\n",
      "A04800       166904 non-null float64\n",
      "N07100       166904 non-null float64\n",
      "A07100       166904 non-null float64\n",
      "N07220       166904 non-null float64\n",
      "A07220       166904 non-null float64\n",
      "N07180       166904 non-null float64\n",
      "A07180       166904 non-null float64\n",
      "N07260       166904 non-null float64\n",
      "A07260       166904 non-null float64\n",
      "N59660       166904 non-null float64\n",
      "A59660       166904 non-null float64\n",
      "N59720       166904 non-null float64\n",
      "A59720       166904 non-null float64\n",
      "N11070       166904 non-null float64\n",
      "A11070       166904 non-null float64\n",
      "N09600       166904 non-null float64\n",
      "A09600       166904 non-null float64\n",
      "N06500       166904 non-null float64\n",
      "A06500       166904 non-null float64\n",
      "N10300       166904 non-null float64\n",
      "A10300       166904 non-null float64\n",
      "N11901       166904 non-null float64\n",
      "A11901       166904 non-null float64\n",
      "N11902       166904 non-null float64\n",
      "A11902       166904 non-null float64\n",
      "dtypes: float64(73), int64(2), object(2)\n",
      "memory usage: 99.3+ MB\n"
     ]
    }
   ],
   "source": [
    "AGI.info()"
   ]
  },
  {
   "cell_type": "markdown",
   "metadata": {},
   "source": [
    "# Transformation"
   ]
  },
  {
   "cell_type": "code",
   "execution_count": 62,
   "metadata": {
    "collapsed": false
   },
   "outputs": [],
   "source": [
    "# you can select columns by label or position!\n",
    "AGI_column_subset = AGI[['STATE','AGI_STUB','zipcode','N1','A00100']]"
   ]
  },
  {
   "cell_type": "code",
   "execution_count": 91,
   "metadata": {
    "collapsed": false
   },
   "outputs": [
    {
     "name": "stdout",
     "output_type": "stream",
     "text": [
      "<class 'pandas.core.frame.DataFrame'>\n",
      "Int64Index: 166904 entries, 0 to 166903\n",
      "Data columns (total 5 columns):\n",
      "STATE         166904 non-null object\n",
      "AGI_STUB      166904 non-null int64\n",
      "zipcode       166904 non-null object\n",
      "population    166904 non-null float64\n",
      "amount        166904 non-null float64\n",
      "dtypes: float64(2), int64(1), object(2)\n",
      "memory usage: 7.6+ MB\n"
     ]
    }
   ],
   "source": [
    "AGI_column_subset.info()"
   ]
  },
  {
   "cell_type": "code",
   "execution_count": 66,
   "metadata": {
    "collapsed": false
   },
   "outputs": [],
   "source": [
    "# note this is inclusive!\n",
    "AGI_row_subset = AGI.ix[2:4]"
   ]
  },
  {
   "cell_type": "code",
   "execution_count": 67,
   "metadata": {
    "collapsed": false,
    "scrolled": false
   },
   "outputs": [
    {
     "data": {
      "text/html": [
       "<div style=\"max-height:1000px;max-width:1500px;overflow:auto;\">\n",
       "<table border=\"1\" class=\"dataframe\">\n",
       "  <thead>\n",
       "    <tr style=\"text-align: right;\">\n",
       "      <th></th>\n",
       "      <th>STATEFIPS</th>\n",
       "      <th>STATE</th>\n",
       "      <th>zipcode</th>\n",
       "      <th>AGI_STUB</th>\n",
       "      <th>N1</th>\n",
       "      <th>MARS1</th>\n",
       "      <th>MARS2</th>\n",
       "      <th>MARS4</th>\n",
       "      <th>PREP</th>\n",
       "      <th>N2</th>\n",
       "      <th>...</th>\n",
       "      <th>N09600</th>\n",
       "      <th>A09600</th>\n",
       "      <th>N06500</th>\n",
       "      <th>A06500</th>\n",
       "      <th>N10300</th>\n",
       "      <th>A10300</th>\n",
       "      <th>N11901</th>\n",
       "      <th>A11901</th>\n",
       "      <th>N11902</th>\n",
       "      <th>A11902</th>\n",
       "    </tr>\n",
       "  </thead>\n",
       "  <tbody>\n",
       "    <tr>\n",
       "      <th>2</th>\n",
       "      <td>1</td>\n",
       "      <td>AL</td>\n",
       "      <td>00000</td>\n",
       "      <td>3</td>\n",
       "      <td>254280</td>\n",
       "      <td>68160</td>\n",
       "      <td>148960</td>\n",
       "      <td>31480</td>\n",
       "      <td>157230</td>\n",
       "      <td>591880</td>\n",
       "      <td>...</td>\n",
       "      <td>100</td>\n",
       "      <td>73</td>\n",
       "      <td>242260</td>\n",
       "      <td>1214154</td>\n",
       "      <td>245280</td>\n",
       "      <td>1286668</td>\n",
       "      <td>55290</td>\n",
       "      <td>113674</td>\n",
       "      <td>193020</td>\n",
       "      <td>550512</td>\n",
       "    </tr>\n",
       "    <tr>\n",
       "      <th>3</th>\n",
       "      <td>1</td>\n",
       "      <td>AL</td>\n",
       "      <td>00000</td>\n",
       "      <td>4</td>\n",
       "      <td>160160</td>\n",
       "      <td>23020</td>\n",
       "      <td>126140</td>\n",
       "      <td>9030</td>\n",
       "      <td>97620</td>\n",
       "      <td>420830</td>\n",
       "      <td>...</td>\n",
       "      <td>260</td>\n",
       "      <td>318</td>\n",
       "      <td>158560</td>\n",
       "      <td>1281451</td>\n",
       "      <td>158980</td>\n",
       "      <td>1342424</td>\n",
       "      <td>38890</td>\n",
       "      <td>104526</td>\n",
       "      <td>116570</td>\n",
       "      <td>388708</td>\n",
       "    </tr>\n",
       "    <tr>\n",
       "      <th>4</th>\n",
       "      <td>1</td>\n",
       "      <td>AL</td>\n",
       "      <td>00000</td>\n",
       "      <td>5</td>\n",
       "      <td>183320</td>\n",
       "      <td>15880</td>\n",
       "      <td>161260</td>\n",
       "      <td>4890</td>\n",
       "      <td>110520</td>\n",
       "      <td>517060</td>\n",
       "      <td>...</td>\n",
       "      <td>2350</td>\n",
       "      <td>4924</td>\n",
       "      <td>182620</td>\n",
       "      <td>3193351</td>\n",
       "      <td>182800</td>\n",
       "      <td>3319526</td>\n",
       "      <td>66910</td>\n",
       "      <td>323614</td>\n",
       "      <td>108270</td>\n",
       "      <td>430314</td>\n",
       "    </tr>\n",
       "  </tbody>\n",
       "</table>\n",
       "<p>3 rows × 77 columns</p>\n",
       "</div>"
      ],
      "text/plain": [
       "   STATEFIPS STATE zipcode  AGI_STUB      N1  MARS1   MARS2  MARS4    PREP  \\\n",
       "2          1    AL   00000         3  254280  68160  148960  31480  157230   \n",
       "3          1    AL   00000         4  160160  23020  126140   9030   97620   \n",
       "4          1    AL   00000         5  183320  15880  161260   4890  110520   \n",
       "\n",
       "       N2   ...    N09600  A09600  N06500   A06500  N10300   A10300  N11901  \\\n",
       "2  591880   ...       100      73  242260  1214154  245280  1286668   55290   \n",
       "3  420830   ...       260     318  158560  1281451  158980  1342424   38890   \n",
       "4  517060   ...      2350    4924  182620  3193351  182800  3319526   66910   \n",
       "\n",
       "   A11901  N11902  A11902  \n",
       "2  113674  193020  550512  \n",
       "3  104526  116570  388708  \n",
       "4  323614  108270  430314  \n",
       "\n",
       "[3 rows x 77 columns]"
      ]
     },
     "execution_count": 67,
     "metadata": {},
     "output_type": "execute_result"
    }
   ],
   "source": [
    "AGI_row_subset"
   ]
  },
  {
   "cell_type": "code",
   "execution_count": 68,
   "metadata": {
    "collapsed": false
   },
   "outputs": [],
   "source": [
    "AGI_column_subset.rename(columns={'N1':'population','A00100':'amount'},inplace=True)"
   ]
  },
  {
   "cell_type": "code",
   "execution_count": 71,
   "metadata": {
    "collapsed": true
   },
   "outputs": [],
   "source": [
    "# also look into pandas.Series.unique\n",
    "AGI_subset_geo = AGI[['zipcode','STATE']].drop_duplicates()"
   ]
  },
  {
   "cell_type": "code",
   "execution_count": 70,
   "metadata": {
    "collapsed": true
   },
   "outputs": [],
   "source": [
    "# group by zipcode and sum other values, resetting index\n",
    "AGI_grouped = AGI_column_subset.groupby('zipcode').sum().reset_index()"
   ]
  },
  {
   "cell_type": "code",
   "execution_count": 72,
   "metadata": {
    "collapsed": false
   },
   "outputs": [
    {
     "data": {
      "text/html": [
       "<div style=\"max-height:1000px;max-width:1500px;overflow:auto;\">\n",
       "<table border=\"1\" class=\"dataframe\">\n",
       "  <thead>\n",
       "    <tr style=\"text-align: right;\">\n",
       "      <th></th>\n",
       "      <th>zipcode</th>\n",
       "      <th>AGI_STUB</th>\n",
       "      <th>population</th>\n",
       "      <th>amount</th>\n",
       "    </tr>\n",
       "  </thead>\n",
       "  <tbody>\n",
       "    <tr>\n",
       "      <th>0</th>\n",
       "      <td>00000</td>\n",
       "      <td>1071</td>\n",
       "      <td>142098490</td>\n",
       "      <td>9123982917</td>\n",
       "    </tr>\n",
       "    <tr>\n",
       "      <th>1</th>\n",
       "      <td>01001</td>\n",
       "      <td>21</td>\n",
       "      <td>8780</td>\n",
       "      <td>458716</td>\n",
       "    </tr>\n",
       "    <tr>\n",
       "      <th>2</th>\n",
       "      <td>01002</td>\n",
       "      <td>21</td>\n",
       "      <td>9460</td>\n",
       "      <td>732849</td>\n",
       "    </tr>\n",
       "    <tr>\n",
       "      <th>3</th>\n",
       "      <td>01005</td>\n",
       "      <td>21</td>\n",
       "      <td>2230</td>\n",
       "      <td>122744</td>\n",
       "    </tr>\n",
       "    <tr>\n",
       "      <th>4</th>\n",
       "      <td>01007</td>\n",
       "      <td>21</td>\n",
       "      <td>7320</td>\n",
       "      <td>467891</td>\n",
       "    </tr>\n",
       "  </tbody>\n",
       "</table>\n",
       "</div>"
      ],
      "text/plain": [
       "  zipcode  AGI_STUB  population      amount\n",
       "0   00000      1071   142098490  9123982917\n",
       "1   01001        21        8780      458716\n",
       "2   01002        21        9460      732849\n",
       "3   01005        21        2230      122744\n",
       "4   01007        21        7320      467891"
      ]
     },
     "execution_count": 72,
     "metadata": {},
     "output_type": "execute_result"
    }
   ],
   "source": [
    "AGI_grouped.head()"
   ]
  },
  {
   "cell_type": "code",
   "execution_count": 86,
   "metadata": {
    "collapsed": false
   },
   "outputs": [
    {
     "data": {
      "text/html": [
       "<img src=\"http://ecdn.funzypics.com/grumpycatmemes/pics/16/OH-No--The-Cute-Kitty-Cats-Are-Attacking-Like-Aliens----The-Hunt-Is-On-Wow-Quest-Guide-.jpg\"/>"
      ],
      "text/plain": [
       "<IPython.core.display.Image object>"
      ]
     },
     "execution_count": 86,
     "metadata": {},
     "output_type": "execute_result"
    }
   ],
   "source": [
    "Image(url=\"http://ecdn.funzypics.com/grumpycatmemes/pics/16/OH-No--The-Cute-Kitty-Cats-Are-Attacking-Like-Aliens----The-Hunt-Is-On-Wow-Quest-Guide-.jpg\")"
   ]
  },
  {
   "cell_type": "markdown",
   "metadata": {},
   "source": [
    "### Delete or render null? You decide!"
   ]
  },
  {
   "cell_type": "code",
   "execution_count": 75,
   "metadata": {
    "collapsed": false
   },
   "outputs": [
    {
     "data": {
      "text/plain": [
       "658296.02258297254"
      ]
     },
     "execution_count": 75,
     "metadata": {},
     "output_type": "execute_result"
    }
   ],
   "source": [
    "AGI_grouped['amount'].mean()"
   ]
  },
  {
   "cell_type": "code",
   "execution_count": 74,
   "metadata": {
    "collapsed": true
   },
   "outputs": [],
   "source": [
    "null_zips = AGI_grouped['zipcode'] == '00000'\n",
    "AGI_grouped.loc[null_zips, 'zipcode'] = np.nan"
   ]
  },
  {
   "cell_type": "code",
   "execution_count": 76,
   "metadata": {
    "collapsed": false
   },
   "outputs": [
    {
     "data": {
      "text/html": [
       "<div style=\"max-height:1000px;max-width:1500px;overflow:auto;\">\n",
       "<table border=\"1\" class=\"dataframe\">\n",
       "  <thead>\n",
       "    <tr style=\"text-align: right;\">\n",
       "      <th></th>\n",
       "      <th>zipcode</th>\n",
       "      <th>AGI_STUB</th>\n",
       "      <th>population</th>\n",
       "      <th>amount</th>\n",
       "    </tr>\n",
       "  </thead>\n",
       "  <tbody>\n",
       "    <tr>\n",
       "      <th>0</th>\n",
       "      <td>NaN</td>\n",
       "      <td>1071</td>\n",
       "      <td>142098490</td>\n",
       "      <td>9123982917</td>\n",
       "    </tr>\n",
       "    <tr>\n",
       "      <th>1</th>\n",
       "      <td>01001</td>\n",
       "      <td>21</td>\n",
       "      <td>8780</td>\n",
       "      <td>458716</td>\n",
       "    </tr>\n",
       "    <tr>\n",
       "      <th>2</th>\n",
       "      <td>01002</td>\n",
       "      <td>21</td>\n",
       "      <td>9460</td>\n",
       "      <td>732849</td>\n",
       "    </tr>\n",
       "    <tr>\n",
       "      <th>3</th>\n",
       "      <td>01005</td>\n",
       "      <td>21</td>\n",
       "      <td>2230</td>\n",
       "      <td>122744</td>\n",
       "    </tr>\n",
       "    <tr>\n",
       "      <th>4</th>\n",
       "      <td>01007</td>\n",
       "      <td>21</td>\n",
       "      <td>7320</td>\n",
       "      <td>467891</td>\n",
       "    </tr>\n",
       "  </tbody>\n",
       "</table>\n",
       "</div>"
      ],
      "text/plain": [
       "  zipcode  AGI_STUB  population      amount\n",
       "0     NaN      1071   142098490  9123982917\n",
       "1   01001        21        8780      458716\n",
       "2   01002        21        9460      732849\n",
       "3   01005        21        2230      122744\n",
       "4   01007        21        7320      467891"
      ]
     },
     "execution_count": 76,
     "metadata": {},
     "output_type": "execute_result"
    }
   ],
   "source": [
    "AGI_grouped.head()"
   ]
  },
  {
   "cell_type": "code",
   "execution_count": 79,
   "metadata": {
    "collapsed": false
   },
   "outputs": [],
   "source": [
    "AGI_notnull = AGI_grouped.dropna()"
   ]
  },
  {
   "cell_type": "code",
   "execution_count": 80,
   "metadata": {
    "collapsed": false
   },
   "outputs": [
    {
     "data": {
      "text/plain": [
       "329159.88415888022"
      ]
     },
     "execution_count": 80,
     "metadata": {},
     "output_type": "execute_result"
    }
   ],
   "source": [
    "AGI_notnull['amount'].mean()"
   ]
  },
  {
   "cell_type": "code",
   "execution_count": 26,
   "metadata": {
    "collapsed": false
   },
   "outputs": [],
   "source": [
    "# make a new column \n",
    "AGI_grouped['actual_amount'] = AGI_grouped['amount'] * 1000"
   ]
  },
  {
   "cell_type": "code",
   "execution_count": 27,
   "metadata": {
    "collapsed": false
   },
   "outputs": [],
   "source": [
    "AGI_grouped['weighted_mean_AGI'] = AGI_grouped['actual_amount']/AGI_grouped['population']"
   ]
  },
  {
   "cell_type": "code",
   "execution_count": 28,
   "metadata": {
    "collapsed": true
   },
   "outputs": [],
   "source": [
    "#use anonymous functions to change every value in a column!\n",
    "AGI_grouped['weighted_mean_AGI']= AGI_grouped['weighted_mean_AGI'].apply(lambda x: round(x, 0))"
   ]
  },
  {
   "cell_type": "code",
   "execution_count": 29,
   "metadata": {
    "collapsed": true
   },
   "outputs": [],
   "source": [
    "# drop columns you won't need\n",
    "AGI_grouped.drop(['AGI_STUB','amount','actual_amount',],axis=1,inplace=True)"
   ]
  },
  {
   "cell_type": "code",
   "execution_count": 30,
   "metadata": {
    "collapsed": true
   },
   "outputs": [],
   "source": [
    "#merge rather than join if you want to use a common column other than the index\n",
    "AGI_final = pd.merge(AGI_grouped, AGI_subset_geo, how='left', on='zipcode')"
   ]
  },
  {
   "cell_type": "code",
   "execution_count": 31,
   "metadata": {
    "collapsed": false
   },
   "outputs": [
    {
     "data": {
      "text/html": [
       "<div style=\"max-height:1000px;max-width:1500px;overflow:auto;\">\n",
       "<table border=\"1\" class=\"dataframe\">\n",
       "  <thead>\n",
       "    <tr style=\"text-align: right;\">\n",
       "      <th></th>\n",
       "      <th>zipcode</th>\n",
       "      <th>population</th>\n",
       "      <th>weighted_mean_AGI</th>\n",
       "      <th>STATE</th>\n",
       "    </tr>\n",
       "  </thead>\n",
       "  <tbody>\n",
       "    <tr>\n",
       "      <th>0</th>\n",
       "      <td>01001</td>\n",
       "      <td>8780</td>\n",
       "      <td>52246</td>\n",
       "      <td>MA</td>\n",
       "    </tr>\n",
       "    <tr>\n",
       "      <th>1</th>\n",
       "      <td>01002</td>\n",
       "      <td>9460</td>\n",
       "      <td>77468</td>\n",
       "      <td>MA</td>\n",
       "    </tr>\n",
       "    <tr>\n",
       "      <th>2</th>\n",
       "      <td>01005</td>\n",
       "      <td>2230</td>\n",
       "      <td>55042</td>\n",
       "      <td>MA</td>\n",
       "    </tr>\n",
       "    <tr>\n",
       "      <th>3</th>\n",
       "      <td>01007</td>\n",
       "      <td>7320</td>\n",
       "      <td>63920</td>\n",
       "      <td>MA</td>\n",
       "    </tr>\n",
       "    <tr>\n",
       "      <th>4</th>\n",
       "      <td>01008</td>\n",
       "      <td>640</td>\n",
       "      <td>60136</td>\n",
       "      <td>MA</td>\n",
       "    </tr>\n",
       "  </tbody>\n",
       "</table>\n",
       "</div>"
      ],
      "text/plain": [
       "  zipcode  population  weighted_mean_AGI STATE\n",
       "0   01001        8780              52246    MA\n",
       "1   01002        9460              77468    MA\n",
       "2   01005        2230              55042    MA\n",
       "3   01007        7320              63920    MA\n",
       "4   01008         640              60136    MA"
      ]
     },
     "execution_count": 31,
     "metadata": {},
     "output_type": "execute_result"
    }
   ],
   "source": [
    "AGI_final.head()"
   ]
  },
  {
   "cell_type": "code",
   "execution_count": 56,
   "metadata": {
    "collapsed": false
   },
   "outputs": [
    {
     "data": {
      "text/html": [
       "<div style=\"max-height:1000px;max-width:1500px;overflow:auto;\">\n",
       "<table border=\"1\" class=\"dataframe\">\n",
       "  <thead>\n",
       "    <tr style=\"text-align: right;\">\n",
       "      <th></th>\n",
       "      <th>zipcode</th>\n",
       "      <th>population</th>\n",
       "      <th>weighted_mean_AGI</th>\n",
       "      <th>STATE</th>\n",
       "    </tr>\n",
       "  </thead>\n",
       "  <tbody>\n",
       "    <tr>\n",
       "      <th>9031</th>\n",
       "      <td>33109</td>\n",
       "      <td>250</td>\n",
       "      <td>2694776</td>\n",
       "      <td>FL</td>\n",
       "    </tr>\n",
       "    <tr>\n",
       "      <th>26104</th>\n",
       "      <td>94027</td>\n",
       "      <td>3220</td>\n",
       "      <td>1464534</td>\n",
       "      <td>CA</td>\n",
       "    </tr>\n",
       "    <tr>\n",
       "      <th>4926</th>\n",
       "      <td>19035</td>\n",
       "      <td>2040</td>\n",
       "      <td>1052019</td>\n",
       "      <td>PA</td>\n",
       "    </tr>\n",
       "    <tr>\n",
       "      <th>2194</th>\n",
       "      <td>10005</td>\n",
       "      <td>5580</td>\n",
       "      <td>983554</td>\n",
       "      <td>NY</td>\n",
       "    </tr>\n",
       "    <tr>\n",
       "      <th>9168</th>\n",
       "      <td>33480</td>\n",
       "      <td>5580</td>\n",
       "      <td>966673</td>\n",
       "      <td>FL</td>\n",
       "    </tr>\n",
       "  </tbody>\n",
       "</table>\n",
       "</div>"
      ],
      "text/plain": [
       "      zipcode  population  weighted_mean_AGI STATE\n",
       "9031    33109         250            2694776    FL\n",
       "26104   94027        3220            1464534    CA\n",
       "4926    19035        2040            1052019    PA\n",
       "2194    10005        5580             983554    NY\n",
       "9168    33480        5580             966673    FL"
      ]
     },
     "execution_count": 56,
     "metadata": {},
     "output_type": "execute_result"
    }
   ],
   "source": [
    "AGI_final.sort('weighted_mean_AGI',ascending=False).head()"
   ]
  },
  {
   "cell_type": "code",
   "execution_count": 57,
   "metadata": {
    "collapsed": false
   },
   "outputs": [
    {
     "data": {
      "text/html": [
       "<div style=\"max-height:1000px;max-width:1500px;overflow:auto;\">\n",
       "<table border=\"1\" class=\"dataframe\">\n",
       "  <thead>\n",
       "    <tr style=\"text-align: right;\">\n",
       "      <th></th>\n",
       "      <th>zipcode</th>\n",
       "      <th>population</th>\n",
       "      <th>weighted_mean_AGI</th>\n",
       "      <th>STATE</th>\n",
       "    </tr>\n",
       "  </thead>\n",
       "  <tbody>\n",
       "    <tr>\n",
       "      <th>13238</th>\n",
       "      <td>47406</td>\n",
       "      <td>150</td>\n",
       "      <td>9860</td>\n",
       "      <td>IN</td>\n",
       "    </tr>\n",
       "    <tr>\n",
       "      <th>19064</th>\n",
       "      <td>64147</td>\n",
       "      <td>200</td>\n",
       "      <td>12320</td>\n",
       "      <td>MO</td>\n",
       "    </tr>\n",
       "    <tr>\n",
       "      <th>24549</th>\n",
       "      <td>84112</td>\n",
       "      <td>300</td>\n",
       "      <td>16823</td>\n",
       "      <td>UT</td>\n",
       "    </tr>\n",
       "    <tr>\n",
       "      <th>10537</th>\n",
       "      <td>38126</td>\n",
       "      <td>2280</td>\n",
       "      <td>17240</td>\n",
       "      <td>TN</td>\n",
       "    </tr>\n",
       "    <tr>\n",
       "      <th>12491</th>\n",
       "      <td>45225</td>\n",
       "      <td>3020</td>\n",
       "      <td>17705</td>\n",
       "      <td>OH</td>\n",
       "    </tr>\n",
       "  </tbody>\n",
       "</table>\n",
       "</div>"
      ],
      "text/plain": [
       "      zipcode  population  weighted_mean_AGI STATE\n",
       "13238   47406         150               9860    IN\n",
       "19064   64147         200              12320    MO\n",
       "24549   84112         300              16823    UT\n",
       "10537   38126        2280              17240    TN\n",
       "12491   45225        3020              17705    OH"
      ]
     },
     "execution_count": 57,
     "metadata": {},
     "output_type": "execute_result"
    }
   ],
   "source": [
    "AGI_final.sort('weighted_mean_AGI').head()"
   ]
  },
  {
   "cell_type": "markdown",
   "metadata": {},
   "source": [
    "# References"
   ]
  },
  {
   "cell_type": "markdown",
   "metadata": {
    "collapsed": true
   },
   "source": [
    "\n",
    "\n",
    "<style>\n",
    "div.text_cell_render {\n",
    "font-family: \"Times New Roman\", serif;\n",
    "...\n",
    "}\n",
    "</style>"
   ]
  },
  {
   "cell_type": "markdown",
   "metadata": {
    "collapsed": true
   },
   "source": [
    "[Python for Data Analysis](http://shop.oreilly.com/product/0636920023784.do) written by Wes McKinney, creator of pandas\n",
    "\n",
    "The inimitable Julia Evans' [pandas cookbook](https://github.com/jvns/pandas-cookbook)\n",
    "\n",
    "[Cyrille Rossant](http://ipython-books.github.io/)"
   ]
  }
 ],
 "metadata": {
  "kernelspec": {
   "display_name": "Python 2",
   "language": "python",
   "name": "python2"
  },
  "language_info": {
   "codemirror_mode": {
    "name": "ipython",
    "version": 2
   },
   "file_extension": ".py",
   "mimetype": "text/x-python",
   "name": "python",
   "nbconvert_exporter": "python",
   "pygments_lexer": "ipython2",
   "version": "2.7.9"
  }
 },
 "nbformat": 4,
 "nbformat_minor": 0
}
